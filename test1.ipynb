{
  "nbformat": 4,
  "nbformat_minor": 0,
  "metadata": {
    "colab": {
      "provenance": [],
      "mount_file_id": "1leM3A-9fbW0GQe3LHQk7ueyh41oEY_Rk",
      "authorship_tag": "ABX9TyNDR05QKuA93n+99SINO2Cr",
      "include_colab_link": true
    },
    "kernelspec": {
      "name": "python3",
      "display_name": "Python 3"
    },
    "language_info": {
      "name": "python"
    }
  },
  "cells": [
    {
      "cell_type": "markdown",
      "metadata": {
        "id": "view-in-github",
        "colab_type": "text"
      },
      "source": [
        "<a href=\"https://colab.research.google.com/github/Haythemmighri/-2DPythonGame/blob/main/test1.ipynb\" target=\"_parent\"><img src=\"https://colab.research.google.com/assets/colab-badge.svg\" alt=\"Open In Colab\"/></a>"
      ]
    },
    {
      "cell_type": "markdown",
      "source": [
        "First type of code using CNN\n",
        "\n",
        "\n"
      ],
      "metadata": {
        "id": "6g7d1fOLDgAG"
      }
    },
    {
      "cell_type": "markdown",
      "source": [
        "Import the necessary packages that we're going to use"
      ],
      "metadata": {
        "id": "rUyL15O_GnX8"
      }
    },
    {
      "cell_type": "code",
      "execution_count": 1,
      "metadata": {
        "colab": {
          "base_uri": "https://localhost:8080/"
        },
        "id": "t69OSSNlDboF",
        "outputId": "90b56e68-cbe9-4fcd-dbe8-7e180d8be71d"
      },
      "outputs": [
        {
          "output_type": "stream",
          "name": "stdout",
          "text": [
            "2.15.0\n"
          ]
        }
      ],
      "source": [
        "import tensorflow as tf\n",
        "from tensorflow import keras\n",
        "from tensorflow.keras import Sequential\n",
        "from tensorflow.keras.layers import Flatten, Dense, Dropout, BatchNormalization\n",
        "from tensorflow.keras.layers import Conv1D, MaxPool1D\n",
        "from tensorflow.keras.optimizers import Adam\n",
        "print(tf.__version__)"
      ]
    },
    {
      "cell_type": "code",
      "source": [
        "import pandas as pd\n",
        "import numpy as np\n",
        "import  seaborn as sns\n",
        "import matplotlib.pyplot as plt\n",
        "from sklearn.model_selection import train_test_split\n",
        "from sklearn.preprocessing import StandardScaler"
      ],
      "metadata": {
        "id": "G0FVt7T9Gfvr"
      },
      "execution_count": 2,
      "outputs": []
    },
    {
      "cell_type": "code",
      "source": [
        "data = pd.read_csv('/content/drive/MyDrive/Colab Notebooks/Data/creditcard.csv')\n",
        "data.head()"
      ],
      "metadata": {
        "colab": {
          "base_uri": "https://localhost:8080/",
          "height": 256
        },
        "id": "wh5Cia78Guoe",
        "outputId": "507ef40e-4a2e-43c5-ac85-0ea18aacf01a"
      },
      "execution_count": 3,
      "outputs": [
        {
          "output_type": "execute_result",
          "data": {
            "text/plain": [
              "   Time        V1        V2        V3        V4        V5        V6        V7  \\\n",
              "0   0.0 -1.359807 -0.072781  2.536347  1.378155 -0.338321  0.462388  0.239599   \n",
              "1   0.0  1.191857  0.266151  0.166480  0.448154  0.060018 -0.082361 -0.078803   \n",
              "2   1.0 -1.358354 -1.340163  1.773209  0.379780 -0.503198  1.800499  0.791461   \n",
              "3   1.0 -0.966272 -0.185226  1.792993 -0.863291 -0.010309  1.247203  0.237609   \n",
              "4   2.0 -1.158233  0.877737  1.548718  0.403034 -0.407193  0.095921  0.592941   \n",
              "\n",
              "         V8        V9  ...       V21       V22       V23       V24       V25  \\\n",
              "0  0.098698  0.363787  ... -0.018307  0.277838 -0.110474  0.066928  0.128539   \n",
              "1  0.085102 -0.255425  ... -0.225775 -0.638672  0.101288 -0.339846  0.167170   \n",
              "2  0.247676 -1.514654  ...  0.247998  0.771679  0.909412 -0.689281 -0.327642   \n",
              "3  0.377436 -1.387024  ... -0.108300  0.005274 -0.190321 -1.175575  0.647376   \n",
              "4 -0.270533  0.817739  ... -0.009431  0.798278 -0.137458  0.141267 -0.206010   \n",
              "\n",
              "        V26       V27       V28  Amount  Class  \n",
              "0 -0.189115  0.133558 -0.021053  149.62      0  \n",
              "1  0.125895 -0.008983  0.014724    2.69      0  \n",
              "2 -0.139097 -0.055353 -0.059752  378.66      0  \n",
              "3 -0.221929  0.062723  0.061458  123.50      0  \n",
              "4  0.502292  0.219422  0.215153   69.99      0  \n",
              "\n",
              "[5 rows x 31 columns]"
            ],
            "text/html": [
              "\n",
              "  <div id=\"df-7d1cad83-5a4c-4ac8-8fbd-a0d4fd95c5b1\" class=\"colab-df-container\">\n",
              "    <div>\n",
              "<style scoped>\n",
              "    .dataframe tbody tr th:only-of-type {\n",
              "        vertical-align: middle;\n",
              "    }\n",
              "\n",
              "    .dataframe tbody tr th {\n",
              "        vertical-align: top;\n",
              "    }\n",
              "\n",
              "    .dataframe thead th {\n",
              "        text-align: right;\n",
              "    }\n",
              "</style>\n",
              "<table border=\"1\" class=\"dataframe\">\n",
              "  <thead>\n",
              "    <tr style=\"text-align: right;\">\n",
              "      <th></th>\n",
              "      <th>Time</th>\n",
              "      <th>V1</th>\n",
              "      <th>V2</th>\n",
              "      <th>V3</th>\n",
              "      <th>V4</th>\n",
              "      <th>V5</th>\n",
              "      <th>V6</th>\n",
              "      <th>V7</th>\n",
              "      <th>V8</th>\n",
              "      <th>V9</th>\n",
              "      <th>...</th>\n",
              "      <th>V21</th>\n",
              "      <th>V22</th>\n",
              "      <th>V23</th>\n",
              "      <th>V24</th>\n",
              "      <th>V25</th>\n",
              "      <th>V26</th>\n",
              "      <th>V27</th>\n",
              "      <th>V28</th>\n",
              "      <th>Amount</th>\n",
              "      <th>Class</th>\n",
              "    </tr>\n",
              "  </thead>\n",
              "  <tbody>\n",
              "    <tr>\n",
              "      <th>0</th>\n",
              "      <td>0.0</td>\n",
              "      <td>-1.359807</td>\n",
              "      <td>-0.072781</td>\n",
              "      <td>2.536347</td>\n",
              "      <td>1.378155</td>\n",
              "      <td>-0.338321</td>\n",
              "      <td>0.462388</td>\n",
              "      <td>0.239599</td>\n",
              "      <td>0.098698</td>\n",
              "      <td>0.363787</td>\n",
              "      <td>...</td>\n",
              "      <td>-0.018307</td>\n",
              "      <td>0.277838</td>\n",
              "      <td>-0.110474</td>\n",
              "      <td>0.066928</td>\n",
              "      <td>0.128539</td>\n",
              "      <td>-0.189115</td>\n",
              "      <td>0.133558</td>\n",
              "      <td>-0.021053</td>\n",
              "      <td>149.62</td>\n",
              "      <td>0</td>\n",
              "    </tr>\n",
              "    <tr>\n",
              "      <th>1</th>\n",
              "      <td>0.0</td>\n",
              "      <td>1.191857</td>\n",
              "      <td>0.266151</td>\n",
              "      <td>0.166480</td>\n",
              "      <td>0.448154</td>\n",
              "      <td>0.060018</td>\n",
              "      <td>-0.082361</td>\n",
              "      <td>-0.078803</td>\n",
              "      <td>0.085102</td>\n",
              "      <td>-0.255425</td>\n",
              "      <td>...</td>\n",
              "      <td>-0.225775</td>\n",
              "      <td>-0.638672</td>\n",
              "      <td>0.101288</td>\n",
              "      <td>-0.339846</td>\n",
              "      <td>0.167170</td>\n",
              "      <td>0.125895</td>\n",
              "      <td>-0.008983</td>\n",
              "      <td>0.014724</td>\n",
              "      <td>2.69</td>\n",
              "      <td>0</td>\n",
              "    </tr>\n",
              "    <tr>\n",
              "      <th>2</th>\n",
              "      <td>1.0</td>\n",
              "      <td>-1.358354</td>\n",
              "      <td>-1.340163</td>\n",
              "      <td>1.773209</td>\n",
              "      <td>0.379780</td>\n",
              "      <td>-0.503198</td>\n",
              "      <td>1.800499</td>\n",
              "      <td>0.791461</td>\n",
              "      <td>0.247676</td>\n",
              "      <td>-1.514654</td>\n",
              "      <td>...</td>\n",
              "      <td>0.247998</td>\n",
              "      <td>0.771679</td>\n",
              "      <td>0.909412</td>\n",
              "      <td>-0.689281</td>\n",
              "      <td>-0.327642</td>\n",
              "      <td>-0.139097</td>\n",
              "      <td>-0.055353</td>\n",
              "      <td>-0.059752</td>\n",
              "      <td>378.66</td>\n",
              "      <td>0</td>\n",
              "    </tr>\n",
              "    <tr>\n",
              "      <th>3</th>\n",
              "      <td>1.0</td>\n",
              "      <td>-0.966272</td>\n",
              "      <td>-0.185226</td>\n",
              "      <td>1.792993</td>\n",
              "      <td>-0.863291</td>\n",
              "      <td>-0.010309</td>\n",
              "      <td>1.247203</td>\n",
              "      <td>0.237609</td>\n",
              "      <td>0.377436</td>\n",
              "      <td>-1.387024</td>\n",
              "      <td>...</td>\n",
              "      <td>-0.108300</td>\n",
              "      <td>0.005274</td>\n",
              "      <td>-0.190321</td>\n",
              "      <td>-1.175575</td>\n",
              "      <td>0.647376</td>\n",
              "      <td>-0.221929</td>\n",
              "      <td>0.062723</td>\n",
              "      <td>0.061458</td>\n",
              "      <td>123.50</td>\n",
              "      <td>0</td>\n",
              "    </tr>\n",
              "    <tr>\n",
              "      <th>4</th>\n",
              "      <td>2.0</td>\n",
              "      <td>-1.158233</td>\n",
              "      <td>0.877737</td>\n",
              "      <td>1.548718</td>\n",
              "      <td>0.403034</td>\n",
              "      <td>-0.407193</td>\n",
              "      <td>0.095921</td>\n",
              "      <td>0.592941</td>\n",
              "      <td>-0.270533</td>\n",
              "      <td>0.817739</td>\n",
              "      <td>...</td>\n",
              "      <td>-0.009431</td>\n",
              "      <td>0.798278</td>\n",
              "      <td>-0.137458</td>\n",
              "      <td>0.141267</td>\n",
              "      <td>-0.206010</td>\n",
              "      <td>0.502292</td>\n",
              "      <td>0.219422</td>\n",
              "      <td>0.215153</td>\n",
              "      <td>69.99</td>\n",
              "      <td>0</td>\n",
              "    </tr>\n",
              "  </tbody>\n",
              "</table>\n",
              "<p>5 rows × 31 columns</p>\n",
              "</div>\n",
              "    <div class=\"colab-df-buttons\">\n",
              "\n",
              "  <div class=\"colab-df-container\">\n",
              "    <button class=\"colab-df-convert\" onclick=\"convertToInteractive('df-7d1cad83-5a4c-4ac8-8fbd-a0d4fd95c5b1')\"\n",
              "            title=\"Convert this dataframe to an interactive table.\"\n",
              "            style=\"display:none;\">\n",
              "\n",
              "  <svg xmlns=\"http://www.w3.org/2000/svg\" height=\"24px\" viewBox=\"0 -960 960 960\">\n",
              "    <path d=\"M120-120v-720h720v720H120Zm60-500h600v-160H180v160Zm220 220h160v-160H400v160Zm0 220h160v-160H400v160ZM180-400h160v-160H180v160Zm440 0h160v-160H620v160ZM180-180h160v-160H180v160Zm440 0h160v-160H620v160Z\"/>\n",
              "  </svg>\n",
              "    </button>\n",
              "\n",
              "  <style>\n",
              "    .colab-df-container {\n",
              "      display:flex;\n",
              "      gap: 12px;\n",
              "    }\n",
              "\n",
              "    .colab-df-convert {\n",
              "      background-color: #E8F0FE;\n",
              "      border: none;\n",
              "      border-radius: 50%;\n",
              "      cursor: pointer;\n",
              "      display: none;\n",
              "      fill: #1967D2;\n",
              "      height: 32px;\n",
              "      padding: 0 0 0 0;\n",
              "      width: 32px;\n",
              "    }\n",
              "\n",
              "    .colab-df-convert:hover {\n",
              "      background-color: #E2EBFA;\n",
              "      box-shadow: 0px 1px 2px rgba(60, 64, 67, 0.3), 0px 1px 3px 1px rgba(60, 64, 67, 0.15);\n",
              "      fill: #174EA6;\n",
              "    }\n",
              "\n",
              "    .colab-df-buttons div {\n",
              "      margin-bottom: 4px;\n",
              "    }\n",
              "\n",
              "    [theme=dark] .colab-df-convert {\n",
              "      background-color: #3B4455;\n",
              "      fill: #D2E3FC;\n",
              "    }\n",
              "\n",
              "    [theme=dark] .colab-df-convert:hover {\n",
              "      background-color: #434B5C;\n",
              "      box-shadow: 0px 1px 3px 1px rgba(0, 0, 0, 0.15);\n",
              "      filter: drop-shadow(0px 1px 2px rgba(0, 0, 0, 0.3));\n",
              "      fill: #FFFFFF;\n",
              "    }\n",
              "  </style>\n",
              "\n",
              "    <script>\n",
              "      const buttonEl =\n",
              "        document.querySelector('#df-7d1cad83-5a4c-4ac8-8fbd-a0d4fd95c5b1 button.colab-df-convert');\n",
              "      buttonEl.style.display =\n",
              "        google.colab.kernel.accessAllowed ? 'block' : 'none';\n",
              "\n",
              "      async function convertToInteractive(key) {\n",
              "        const element = document.querySelector('#df-7d1cad83-5a4c-4ac8-8fbd-a0d4fd95c5b1');\n",
              "        const dataTable =\n",
              "          await google.colab.kernel.invokeFunction('convertToInteractive',\n",
              "                                                    [key], {});\n",
              "        if (!dataTable) return;\n",
              "\n",
              "        const docLinkHtml = 'Like what you see? Visit the ' +\n",
              "          '<a target=\"_blank\" href=https://colab.research.google.com/notebooks/data_table.ipynb>data table notebook</a>'\n",
              "          + ' to learn more about interactive tables.';\n",
              "        element.innerHTML = '';\n",
              "        dataTable['output_type'] = 'display_data';\n",
              "        await google.colab.output.renderOutput(dataTable, element);\n",
              "        const docLink = document.createElement('div');\n",
              "        docLink.innerHTML = docLinkHtml;\n",
              "        element.appendChild(docLink);\n",
              "      }\n",
              "    </script>\n",
              "  </div>\n",
              "\n",
              "\n",
              "<div id=\"df-6c6dffd0-409c-4624-8ea8-63d6b38390bf\">\n",
              "  <button class=\"colab-df-quickchart\" onclick=\"quickchart('df-6c6dffd0-409c-4624-8ea8-63d6b38390bf')\"\n",
              "            title=\"Suggest charts\"\n",
              "            style=\"display:none;\">\n",
              "\n",
              "<svg xmlns=\"http://www.w3.org/2000/svg\" height=\"24px\"viewBox=\"0 0 24 24\"\n",
              "     width=\"24px\">\n",
              "    <g>\n",
              "        <path d=\"M19 3H5c-1.1 0-2 .9-2 2v14c0 1.1.9 2 2 2h14c1.1 0 2-.9 2-2V5c0-1.1-.9-2-2-2zM9 17H7v-7h2v7zm4 0h-2V7h2v10zm4 0h-2v-4h2v4z\"/>\n",
              "    </g>\n",
              "</svg>\n",
              "  </button>\n",
              "\n",
              "<style>\n",
              "  .colab-df-quickchart {\n",
              "      --bg-color: #E8F0FE;\n",
              "      --fill-color: #1967D2;\n",
              "      --hover-bg-color: #E2EBFA;\n",
              "      --hover-fill-color: #174EA6;\n",
              "      --disabled-fill-color: #AAA;\n",
              "      --disabled-bg-color: #DDD;\n",
              "  }\n",
              "\n",
              "  [theme=dark] .colab-df-quickchart {\n",
              "      --bg-color: #3B4455;\n",
              "      --fill-color: #D2E3FC;\n",
              "      --hover-bg-color: #434B5C;\n",
              "      --hover-fill-color: #FFFFFF;\n",
              "      --disabled-bg-color: #3B4455;\n",
              "      --disabled-fill-color: #666;\n",
              "  }\n",
              "\n",
              "  .colab-df-quickchart {\n",
              "    background-color: var(--bg-color);\n",
              "    border: none;\n",
              "    border-radius: 50%;\n",
              "    cursor: pointer;\n",
              "    display: none;\n",
              "    fill: var(--fill-color);\n",
              "    height: 32px;\n",
              "    padding: 0;\n",
              "    width: 32px;\n",
              "  }\n",
              "\n",
              "  .colab-df-quickchart:hover {\n",
              "    background-color: var(--hover-bg-color);\n",
              "    box-shadow: 0 1px 2px rgba(60, 64, 67, 0.3), 0 1px 3px 1px rgba(60, 64, 67, 0.15);\n",
              "    fill: var(--button-hover-fill-color);\n",
              "  }\n",
              "\n",
              "  .colab-df-quickchart-complete:disabled,\n",
              "  .colab-df-quickchart-complete:disabled:hover {\n",
              "    background-color: var(--disabled-bg-color);\n",
              "    fill: var(--disabled-fill-color);\n",
              "    box-shadow: none;\n",
              "  }\n",
              "\n",
              "  .colab-df-spinner {\n",
              "    border: 2px solid var(--fill-color);\n",
              "    border-color: transparent;\n",
              "    border-bottom-color: var(--fill-color);\n",
              "    animation:\n",
              "      spin 1s steps(1) infinite;\n",
              "  }\n",
              "\n",
              "  @keyframes spin {\n",
              "    0% {\n",
              "      border-color: transparent;\n",
              "      border-bottom-color: var(--fill-color);\n",
              "      border-left-color: var(--fill-color);\n",
              "    }\n",
              "    20% {\n",
              "      border-color: transparent;\n",
              "      border-left-color: var(--fill-color);\n",
              "      border-top-color: var(--fill-color);\n",
              "    }\n",
              "    30% {\n",
              "      border-color: transparent;\n",
              "      border-left-color: var(--fill-color);\n",
              "      border-top-color: var(--fill-color);\n",
              "      border-right-color: var(--fill-color);\n",
              "    }\n",
              "    40% {\n",
              "      border-color: transparent;\n",
              "      border-right-color: var(--fill-color);\n",
              "      border-top-color: var(--fill-color);\n",
              "    }\n",
              "    60% {\n",
              "      border-color: transparent;\n",
              "      border-right-color: var(--fill-color);\n",
              "    }\n",
              "    80% {\n",
              "      border-color: transparent;\n",
              "      border-right-color: var(--fill-color);\n",
              "      border-bottom-color: var(--fill-color);\n",
              "    }\n",
              "    90% {\n",
              "      border-color: transparent;\n",
              "      border-bottom-color: var(--fill-color);\n",
              "    }\n",
              "  }\n",
              "</style>\n",
              "\n",
              "  <script>\n",
              "    async function quickchart(key) {\n",
              "      const quickchartButtonEl =\n",
              "        document.querySelector('#' + key + ' button');\n",
              "      quickchartButtonEl.disabled = true;  // To prevent multiple clicks.\n",
              "      quickchartButtonEl.classList.add('colab-df-spinner');\n",
              "      try {\n",
              "        const charts = await google.colab.kernel.invokeFunction(\n",
              "            'suggestCharts', [key], {});\n",
              "      } catch (error) {\n",
              "        console.error('Error during call to suggestCharts:', error);\n",
              "      }\n",
              "      quickchartButtonEl.classList.remove('colab-df-spinner');\n",
              "      quickchartButtonEl.classList.add('colab-df-quickchart-complete');\n",
              "    }\n",
              "    (() => {\n",
              "      let quickchartButtonEl =\n",
              "        document.querySelector('#df-6c6dffd0-409c-4624-8ea8-63d6b38390bf button');\n",
              "      quickchartButtonEl.style.display =\n",
              "        google.colab.kernel.accessAllowed ? 'block' : 'none';\n",
              "    })();\n",
              "  </script>\n",
              "</div>\n",
              "\n",
              "    </div>\n",
              "  </div>\n"
            ],
            "application/vnd.google.colaboratory.intrinsic+json": {
              "type": "dataframe",
              "variable_name": "data"
            }
          },
          "metadata": {},
          "execution_count": 3
        }
      ]
    },
    {
      "cell_type": "code",
      "source": [
        "data.shape"
      ],
      "metadata": {
        "colab": {
          "base_uri": "https://localhost:8080/"
        },
        "id": "OdQ3JaBMGxQN",
        "outputId": "37cca0ad-61f0-4342-c06f-6960b06a24d1"
      },
      "execution_count": 4,
      "outputs": [
        {
          "output_type": "execute_result",
          "data": {
            "text/plain": [
              "(284807, 31)"
            ]
          },
          "metadata": {},
          "execution_count": 4
        }
      ]
    },
    {
      "cell_type": "code",
      "source": [
        "data.isnull().sum()"
      ],
      "metadata": {
        "colab": {
          "base_uri": "https://localhost:8080/"
        },
        "id": "hYNOje9VG9iW",
        "outputId": "0a06ed69-9e29-43de-d495-48205c442b50"
      },
      "execution_count": 5,
      "outputs": [
        {
          "output_type": "execute_result",
          "data": {
            "text/plain": [
              "Time      0\n",
              "V1        0\n",
              "V2        0\n",
              "V3        0\n",
              "V4        0\n",
              "V5        0\n",
              "V6        0\n",
              "V7        0\n",
              "V8        0\n",
              "V9        0\n",
              "V10       0\n",
              "V11       0\n",
              "V12       0\n",
              "V13       0\n",
              "V14       0\n",
              "V15       0\n",
              "V16       0\n",
              "V17       0\n",
              "V18       0\n",
              "V19       0\n",
              "V20       0\n",
              "V21       0\n",
              "V22       0\n",
              "V23       0\n",
              "V24       0\n",
              "V25       0\n",
              "V26       0\n",
              "V27       0\n",
              "V28       0\n",
              "Amount    0\n",
              "Class     0\n",
              "dtype: int64"
            ]
          },
          "metadata": {},
          "execution_count": 5
        }
      ]
    },
    {
      "cell_type": "code",
      "source": [
        "data.info()"
      ],
      "metadata": {
        "colab": {
          "base_uri": "https://localhost:8080/"
        },
        "id": "v9_karktHGMl",
        "outputId": "88055509-ae36-4c4f-ae33-7df01119356b"
      },
      "execution_count": 6,
      "outputs": [
        {
          "output_type": "stream",
          "name": "stdout",
          "text": [
            "<class 'pandas.core.frame.DataFrame'>\n",
            "RangeIndex: 284807 entries, 0 to 284806\n",
            "Data columns (total 31 columns):\n",
            " #   Column  Non-Null Count   Dtype  \n",
            "---  ------  --------------   -----  \n",
            " 0   Time    284807 non-null  float64\n",
            " 1   V1      284807 non-null  float64\n",
            " 2   V2      284807 non-null  float64\n",
            " 3   V3      284807 non-null  float64\n",
            " 4   V4      284807 non-null  float64\n",
            " 5   V5      284807 non-null  float64\n",
            " 6   V6      284807 non-null  float64\n",
            " 7   V7      284807 non-null  float64\n",
            " 8   V8      284807 non-null  float64\n",
            " 9   V9      284807 non-null  float64\n",
            " 10  V10     284807 non-null  float64\n",
            " 11  V11     284807 non-null  float64\n",
            " 12  V12     284807 non-null  float64\n",
            " 13  V13     284807 non-null  float64\n",
            " 14  V14     284807 non-null  float64\n",
            " 15  V15     284807 non-null  float64\n",
            " 16  V16     284807 non-null  float64\n",
            " 17  V17     284807 non-null  float64\n",
            " 18  V18     284807 non-null  float64\n",
            " 19  V19     284807 non-null  float64\n",
            " 20  V20     284807 non-null  float64\n",
            " 21  V21     284807 non-null  float64\n",
            " 22  V22     284807 non-null  float64\n",
            " 23  V23     284807 non-null  float64\n",
            " 24  V24     284807 non-null  float64\n",
            " 25  V25     284807 non-null  float64\n",
            " 26  V26     284807 non-null  float64\n",
            " 27  V27     284807 non-null  float64\n",
            " 28  V28     284807 non-null  float64\n",
            " 29  Amount  284807 non-null  float64\n",
            " 30  Class   284807 non-null  int64  \n",
            "dtypes: float64(30), int64(1)\n",
            "memory usage: 67.4 MB\n"
          ]
        }
      ]
    },
    {
      "cell_type": "code",
      "source": [
        "data['Class'].value_counts()"
      ],
      "metadata": {
        "colab": {
          "base_uri": "https://localhost:8080/"
        },
        "id": "AAsQ2wzRPq9U",
        "outputId": "836a5216-c425-46f8-a14e-73790de4d126"
      },
      "execution_count": 7,
      "outputs": [
        {
          "output_type": "execute_result",
          "data": {
            "text/plain": [
              "Class\n",
              "0    284315\n",
              "1       492\n",
              "Name: count, dtype: int64"
            ]
          },
          "metadata": {},
          "execution_count": 7
        }
      ]
    },
    {
      "cell_type": "code",
      "source": [
        "non_fraud = data[data['Class']==0]\n",
        "fraud = data[data['Class']==1]"
      ],
      "metadata": {
        "id": "oDq-hhhhP3c2"
      },
      "execution_count": 8,
      "outputs": []
    },
    {
      "cell_type": "code",
      "source": [
        "non_fraud.shape, fraud.shape"
      ],
      "metadata": {
        "colab": {
          "base_uri": "https://localhost:8080/"
        },
        "id": "hwxU5EF1QB8g",
        "outputId": "dfc08d8e-9c62-45b7-f2be-2ec86c6158cb"
      },
      "execution_count": 9,
      "outputs": [
        {
          "output_type": "execute_result",
          "data": {
            "text/plain": [
              "((284315, 31), (492, 31))"
            ]
          },
          "metadata": {},
          "execution_count": 9
        }
      ]
    },
    {
      "cell_type": "code",
      "source": [
        "non_fraud = non_fraud.sample(fraud.shape[0])\n",
        "non_fraud.shape"
      ],
      "metadata": {
        "colab": {
          "base_uri": "https://localhost:8080/"
        },
        "id": "ZuS_JOsUQC7P",
        "outputId": "5afb7e2d-6a8f-43cb-ba46-d2bab2a87953"
      },
      "execution_count": 10,
      "outputs": [
        {
          "output_type": "execute_result",
          "data": {
            "text/plain": [
              "(492, 31)"
            ]
          },
          "metadata": {},
          "execution_count": 10
        }
      ]
    },
    {
      "cell_type": "code",
      "source": [
        "data = pd.concat([fraud, non_fraud], ignore_index=True)\n",
        "data"
      ],
      "metadata": {
        "colab": {
          "base_uri": "https://localhost:8080/",
          "height": 444
        },
        "id": "tfoYQtkYQITY",
        "outputId": "0cd7b520-5756-41cf-807f-08a39f305ed4"
      },
      "execution_count": 12,
      "outputs": [
        {
          "output_type": "execute_result",
          "data": {
            "text/plain": [
              "         Time        V1        V2        V3        V4        V5        V6  \\\n",
              "0       406.0 -2.312227  1.951992 -1.609851  3.997906 -0.522188 -1.426545   \n",
              "1       472.0 -3.043541 -3.157307  1.088463  2.288644  1.359805 -1.064823   \n",
              "2      4462.0 -2.303350  1.759247 -0.359745  2.330243 -0.821628 -0.075788   \n",
              "3      6986.0 -4.397974  1.358367 -2.592844  2.679787 -1.128131 -1.706536   \n",
              "4      7519.0  1.234235  3.019740 -4.304597  4.732795  3.624201 -1.357746   \n",
              "..        ...       ...       ...       ...       ...       ...       ...   \n",
              "979   65690.0  1.219830  0.446352 -0.009583  1.040637 -0.017739 -0.989236   \n",
              "980   61066.0 -0.896752  0.327909  0.802756 -0.834631  1.223573 -0.023624   \n",
              "981   50952.0 -2.916960  1.278352  1.242893  1.013765 -1.281227 -0.143814   \n",
              "982   58742.0  1.311496  0.364396 -0.117437  0.879700  0.257425 -0.380511   \n",
              "983  129764.0 -1.444958  1.264710  0.370500 -0.607371  0.155386  0.264429   \n",
              "\n",
              "           V7        V8        V9  ...       V21       V22       V23  \\\n",
              "0   -2.537387  1.391657 -2.770089  ...  0.517232 -0.035049 -0.465211   \n",
              "1    0.325574 -0.067794 -0.270953  ...  0.661696  0.435477  1.375966   \n",
              "2    0.562320 -0.399147 -0.238253  ... -0.294166 -0.932391  0.172726   \n",
              "3   -3.496197 -0.248778 -0.247768  ...  0.573574  0.176968 -0.436207   \n",
              "4    1.713445 -0.496358 -1.282858  ... -0.379068 -0.704181 -0.656805   \n",
              "..        ...       ...       ...  ...       ...       ...       ...   \n",
              "979  0.443639 -0.213455 -0.530711  ...  0.066327  0.204903 -0.130716   \n",
              "980  1.309704 -0.070354 -0.640551  ... -0.277760 -0.890803  0.163132   \n",
              "981 -1.292787  1.627285 -0.046259  ...  0.103785  0.716859  0.358613   \n",
              "982  0.229933 -0.194737 -0.016111  ... -0.032280 -0.023195 -0.230517   \n",
              "983 -0.246528  0.703092  0.374768  ...  0.271551  1.072854 -0.449656   \n",
              "\n",
              "          V24       V25       V26       V27       V28  Amount  Class  \n",
              "0    0.320198  0.044519  0.177840  0.261145 -0.143276    0.00      1  \n",
              "1   -0.293803  0.279798 -0.145362 -0.252773  0.035764  529.00      1  \n",
              "2   -0.087330 -0.156114 -0.542628  0.039566 -0.153029  239.93      1  \n",
              "3   -0.053502  0.252405 -0.657488 -0.827136  0.849573   59.00      1  \n",
              "4   -1.632653  1.488901  0.566797 -0.010016  0.146793    1.00      1  \n",
              "..        ...       ...       ...       ...       ...     ...    ...  \n",
              "979  0.552649  0.790569 -0.326023 -0.012399  0.002519    1.49      0  \n",
              "980 -0.880796 -0.182681  0.008300  0.073169 -0.053845  101.90      0  \n",
              "981  0.321981  0.667100 -0.077243  0.284087 -0.064389    1.23      0  \n",
              "982 -0.598093  0.836211 -0.267721  0.014942  0.011479    6.44      0  \n",
              "983  0.122150  0.209835 -0.081948  0.034733 -0.131398    7.49      0  \n",
              "\n",
              "[984 rows x 31 columns]"
            ],
            "text/html": [
              "\n",
              "  <div id=\"df-b9a296a0-9920-4c59-89af-cb1c8303830d\" class=\"colab-df-container\">\n",
              "    <div>\n",
              "<style scoped>\n",
              "    .dataframe tbody tr th:only-of-type {\n",
              "        vertical-align: middle;\n",
              "    }\n",
              "\n",
              "    .dataframe tbody tr th {\n",
              "        vertical-align: top;\n",
              "    }\n",
              "\n",
              "    .dataframe thead th {\n",
              "        text-align: right;\n",
              "    }\n",
              "</style>\n",
              "<table border=\"1\" class=\"dataframe\">\n",
              "  <thead>\n",
              "    <tr style=\"text-align: right;\">\n",
              "      <th></th>\n",
              "      <th>Time</th>\n",
              "      <th>V1</th>\n",
              "      <th>V2</th>\n",
              "      <th>V3</th>\n",
              "      <th>V4</th>\n",
              "      <th>V5</th>\n",
              "      <th>V6</th>\n",
              "      <th>V7</th>\n",
              "      <th>V8</th>\n",
              "      <th>V9</th>\n",
              "      <th>...</th>\n",
              "      <th>V21</th>\n",
              "      <th>V22</th>\n",
              "      <th>V23</th>\n",
              "      <th>V24</th>\n",
              "      <th>V25</th>\n",
              "      <th>V26</th>\n",
              "      <th>V27</th>\n",
              "      <th>V28</th>\n",
              "      <th>Amount</th>\n",
              "      <th>Class</th>\n",
              "    </tr>\n",
              "  </thead>\n",
              "  <tbody>\n",
              "    <tr>\n",
              "      <th>0</th>\n",
              "      <td>406.0</td>\n",
              "      <td>-2.312227</td>\n",
              "      <td>1.951992</td>\n",
              "      <td>-1.609851</td>\n",
              "      <td>3.997906</td>\n",
              "      <td>-0.522188</td>\n",
              "      <td>-1.426545</td>\n",
              "      <td>-2.537387</td>\n",
              "      <td>1.391657</td>\n",
              "      <td>-2.770089</td>\n",
              "      <td>...</td>\n",
              "      <td>0.517232</td>\n",
              "      <td>-0.035049</td>\n",
              "      <td>-0.465211</td>\n",
              "      <td>0.320198</td>\n",
              "      <td>0.044519</td>\n",
              "      <td>0.177840</td>\n",
              "      <td>0.261145</td>\n",
              "      <td>-0.143276</td>\n",
              "      <td>0.00</td>\n",
              "      <td>1</td>\n",
              "    </tr>\n",
              "    <tr>\n",
              "      <th>1</th>\n",
              "      <td>472.0</td>\n",
              "      <td>-3.043541</td>\n",
              "      <td>-3.157307</td>\n",
              "      <td>1.088463</td>\n",
              "      <td>2.288644</td>\n",
              "      <td>1.359805</td>\n",
              "      <td>-1.064823</td>\n",
              "      <td>0.325574</td>\n",
              "      <td>-0.067794</td>\n",
              "      <td>-0.270953</td>\n",
              "      <td>...</td>\n",
              "      <td>0.661696</td>\n",
              "      <td>0.435477</td>\n",
              "      <td>1.375966</td>\n",
              "      <td>-0.293803</td>\n",
              "      <td>0.279798</td>\n",
              "      <td>-0.145362</td>\n",
              "      <td>-0.252773</td>\n",
              "      <td>0.035764</td>\n",
              "      <td>529.00</td>\n",
              "      <td>1</td>\n",
              "    </tr>\n",
              "    <tr>\n",
              "      <th>2</th>\n",
              "      <td>4462.0</td>\n",
              "      <td>-2.303350</td>\n",
              "      <td>1.759247</td>\n",
              "      <td>-0.359745</td>\n",
              "      <td>2.330243</td>\n",
              "      <td>-0.821628</td>\n",
              "      <td>-0.075788</td>\n",
              "      <td>0.562320</td>\n",
              "      <td>-0.399147</td>\n",
              "      <td>-0.238253</td>\n",
              "      <td>...</td>\n",
              "      <td>-0.294166</td>\n",
              "      <td>-0.932391</td>\n",
              "      <td>0.172726</td>\n",
              "      <td>-0.087330</td>\n",
              "      <td>-0.156114</td>\n",
              "      <td>-0.542628</td>\n",
              "      <td>0.039566</td>\n",
              "      <td>-0.153029</td>\n",
              "      <td>239.93</td>\n",
              "      <td>1</td>\n",
              "    </tr>\n",
              "    <tr>\n",
              "      <th>3</th>\n",
              "      <td>6986.0</td>\n",
              "      <td>-4.397974</td>\n",
              "      <td>1.358367</td>\n",
              "      <td>-2.592844</td>\n",
              "      <td>2.679787</td>\n",
              "      <td>-1.128131</td>\n",
              "      <td>-1.706536</td>\n",
              "      <td>-3.496197</td>\n",
              "      <td>-0.248778</td>\n",
              "      <td>-0.247768</td>\n",
              "      <td>...</td>\n",
              "      <td>0.573574</td>\n",
              "      <td>0.176968</td>\n",
              "      <td>-0.436207</td>\n",
              "      <td>-0.053502</td>\n",
              "      <td>0.252405</td>\n",
              "      <td>-0.657488</td>\n",
              "      <td>-0.827136</td>\n",
              "      <td>0.849573</td>\n",
              "      <td>59.00</td>\n",
              "      <td>1</td>\n",
              "    </tr>\n",
              "    <tr>\n",
              "      <th>4</th>\n",
              "      <td>7519.0</td>\n",
              "      <td>1.234235</td>\n",
              "      <td>3.019740</td>\n",
              "      <td>-4.304597</td>\n",
              "      <td>4.732795</td>\n",
              "      <td>3.624201</td>\n",
              "      <td>-1.357746</td>\n",
              "      <td>1.713445</td>\n",
              "      <td>-0.496358</td>\n",
              "      <td>-1.282858</td>\n",
              "      <td>...</td>\n",
              "      <td>-0.379068</td>\n",
              "      <td>-0.704181</td>\n",
              "      <td>-0.656805</td>\n",
              "      <td>-1.632653</td>\n",
              "      <td>1.488901</td>\n",
              "      <td>0.566797</td>\n",
              "      <td>-0.010016</td>\n",
              "      <td>0.146793</td>\n",
              "      <td>1.00</td>\n",
              "      <td>1</td>\n",
              "    </tr>\n",
              "    <tr>\n",
              "      <th>...</th>\n",
              "      <td>...</td>\n",
              "      <td>...</td>\n",
              "      <td>...</td>\n",
              "      <td>...</td>\n",
              "      <td>...</td>\n",
              "      <td>...</td>\n",
              "      <td>...</td>\n",
              "      <td>...</td>\n",
              "      <td>...</td>\n",
              "      <td>...</td>\n",
              "      <td>...</td>\n",
              "      <td>...</td>\n",
              "      <td>...</td>\n",
              "      <td>...</td>\n",
              "      <td>...</td>\n",
              "      <td>...</td>\n",
              "      <td>...</td>\n",
              "      <td>...</td>\n",
              "      <td>...</td>\n",
              "      <td>...</td>\n",
              "      <td>...</td>\n",
              "    </tr>\n",
              "    <tr>\n",
              "      <th>979</th>\n",
              "      <td>65690.0</td>\n",
              "      <td>1.219830</td>\n",
              "      <td>0.446352</td>\n",
              "      <td>-0.009583</td>\n",
              "      <td>1.040637</td>\n",
              "      <td>-0.017739</td>\n",
              "      <td>-0.989236</td>\n",
              "      <td>0.443639</td>\n",
              "      <td>-0.213455</td>\n",
              "      <td>-0.530711</td>\n",
              "      <td>...</td>\n",
              "      <td>0.066327</td>\n",
              "      <td>0.204903</td>\n",
              "      <td>-0.130716</td>\n",
              "      <td>0.552649</td>\n",
              "      <td>0.790569</td>\n",
              "      <td>-0.326023</td>\n",
              "      <td>-0.012399</td>\n",
              "      <td>0.002519</td>\n",
              "      <td>1.49</td>\n",
              "      <td>0</td>\n",
              "    </tr>\n",
              "    <tr>\n",
              "      <th>980</th>\n",
              "      <td>61066.0</td>\n",
              "      <td>-0.896752</td>\n",
              "      <td>0.327909</td>\n",
              "      <td>0.802756</td>\n",
              "      <td>-0.834631</td>\n",
              "      <td>1.223573</td>\n",
              "      <td>-0.023624</td>\n",
              "      <td>1.309704</td>\n",
              "      <td>-0.070354</td>\n",
              "      <td>-0.640551</td>\n",
              "      <td>...</td>\n",
              "      <td>-0.277760</td>\n",
              "      <td>-0.890803</td>\n",
              "      <td>0.163132</td>\n",
              "      <td>-0.880796</td>\n",
              "      <td>-0.182681</td>\n",
              "      <td>0.008300</td>\n",
              "      <td>0.073169</td>\n",
              "      <td>-0.053845</td>\n",
              "      <td>101.90</td>\n",
              "      <td>0</td>\n",
              "    </tr>\n",
              "    <tr>\n",
              "      <th>981</th>\n",
              "      <td>50952.0</td>\n",
              "      <td>-2.916960</td>\n",
              "      <td>1.278352</td>\n",
              "      <td>1.242893</td>\n",
              "      <td>1.013765</td>\n",
              "      <td>-1.281227</td>\n",
              "      <td>-0.143814</td>\n",
              "      <td>-1.292787</td>\n",
              "      <td>1.627285</td>\n",
              "      <td>-0.046259</td>\n",
              "      <td>...</td>\n",
              "      <td>0.103785</td>\n",
              "      <td>0.716859</td>\n",
              "      <td>0.358613</td>\n",
              "      <td>0.321981</td>\n",
              "      <td>0.667100</td>\n",
              "      <td>-0.077243</td>\n",
              "      <td>0.284087</td>\n",
              "      <td>-0.064389</td>\n",
              "      <td>1.23</td>\n",
              "      <td>0</td>\n",
              "    </tr>\n",
              "    <tr>\n",
              "      <th>982</th>\n",
              "      <td>58742.0</td>\n",
              "      <td>1.311496</td>\n",
              "      <td>0.364396</td>\n",
              "      <td>-0.117437</td>\n",
              "      <td>0.879700</td>\n",
              "      <td>0.257425</td>\n",
              "      <td>-0.380511</td>\n",
              "      <td>0.229933</td>\n",
              "      <td>-0.194737</td>\n",
              "      <td>-0.016111</td>\n",
              "      <td>...</td>\n",
              "      <td>-0.032280</td>\n",
              "      <td>-0.023195</td>\n",
              "      <td>-0.230517</td>\n",
              "      <td>-0.598093</td>\n",
              "      <td>0.836211</td>\n",
              "      <td>-0.267721</td>\n",
              "      <td>0.014942</td>\n",
              "      <td>0.011479</td>\n",
              "      <td>6.44</td>\n",
              "      <td>0</td>\n",
              "    </tr>\n",
              "    <tr>\n",
              "      <th>983</th>\n",
              "      <td>129764.0</td>\n",
              "      <td>-1.444958</td>\n",
              "      <td>1.264710</td>\n",
              "      <td>0.370500</td>\n",
              "      <td>-0.607371</td>\n",
              "      <td>0.155386</td>\n",
              "      <td>0.264429</td>\n",
              "      <td>-0.246528</td>\n",
              "      <td>0.703092</td>\n",
              "      <td>0.374768</td>\n",
              "      <td>...</td>\n",
              "      <td>0.271551</td>\n",
              "      <td>1.072854</td>\n",
              "      <td>-0.449656</td>\n",
              "      <td>0.122150</td>\n",
              "      <td>0.209835</td>\n",
              "      <td>-0.081948</td>\n",
              "      <td>0.034733</td>\n",
              "      <td>-0.131398</td>\n",
              "      <td>7.49</td>\n",
              "      <td>0</td>\n",
              "    </tr>\n",
              "  </tbody>\n",
              "</table>\n",
              "<p>984 rows × 31 columns</p>\n",
              "</div>\n",
              "    <div class=\"colab-df-buttons\">\n",
              "\n",
              "  <div class=\"colab-df-container\">\n",
              "    <button class=\"colab-df-convert\" onclick=\"convertToInteractive('df-b9a296a0-9920-4c59-89af-cb1c8303830d')\"\n",
              "            title=\"Convert this dataframe to an interactive table.\"\n",
              "            style=\"display:none;\">\n",
              "\n",
              "  <svg xmlns=\"http://www.w3.org/2000/svg\" height=\"24px\" viewBox=\"0 -960 960 960\">\n",
              "    <path d=\"M120-120v-720h720v720H120Zm60-500h600v-160H180v160Zm220 220h160v-160H400v160Zm0 220h160v-160H400v160ZM180-400h160v-160H180v160Zm440 0h160v-160H620v160ZM180-180h160v-160H180v160Zm440 0h160v-160H620v160Z\"/>\n",
              "  </svg>\n",
              "    </button>\n",
              "\n",
              "  <style>\n",
              "    .colab-df-container {\n",
              "      display:flex;\n",
              "      gap: 12px;\n",
              "    }\n",
              "\n",
              "    .colab-df-convert {\n",
              "      background-color: #E8F0FE;\n",
              "      border: none;\n",
              "      border-radius: 50%;\n",
              "      cursor: pointer;\n",
              "      display: none;\n",
              "      fill: #1967D2;\n",
              "      height: 32px;\n",
              "      padding: 0 0 0 0;\n",
              "      width: 32px;\n",
              "    }\n",
              "\n",
              "    .colab-df-convert:hover {\n",
              "      background-color: #E2EBFA;\n",
              "      box-shadow: 0px 1px 2px rgba(60, 64, 67, 0.3), 0px 1px 3px 1px rgba(60, 64, 67, 0.15);\n",
              "      fill: #174EA6;\n",
              "    }\n",
              "\n",
              "    .colab-df-buttons div {\n",
              "      margin-bottom: 4px;\n",
              "    }\n",
              "\n",
              "    [theme=dark] .colab-df-convert {\n",
              "      background-color: #3B4455;\n",
              "      fill: #D2E3FC;\n",
              "    }\n",
              "\n",
              "    [theme=dark] .colab-df-convert:hover {\n",
              "      background-color: #434B5C;\n",
              "      box-shadow: 0px 1px 3px 1px rgba(0, 0, 0, 0.15);\n",
              "      filter: drop-shadow(0px 1px 2px rgba(0, 0, 0, 0.3));\n",
              "      fill: #FFFFFF;\n",
              "    }\n",
              "  </style>\n",
              "\n",
              "    <script>\n",
              "      const buttonEl =\n",
              "        document.querySelector('#df-b9a296a0-9920-4c59-89af-cb1c8303830d button.colab-df-convert');\n",
              "      buttonEl.style.display =\n",
              "        google.colab.kernel.accessAllowed ? 'block' : 'none';\n",
              "\n",
              "      async function convertToInteractive(key) {\n",
              "        const element = document.querySelector('#df-b9a296a0-9920-4c59-89af-cb1c8303830d');\n",
              "        const dataTable =\n",
              "          await google.colab.kernel.invokeFunction('convertToInteractive',\n",
              "                                                    [key], {});\n",
              "        if (!dataTable) return;\n",
              "\n",
              "        const docLinkHtml = 'Like what you see? Visit the ' +\n",
              "          '<a target=\"_blank\" href=https://colab.research.google.com/notebooks/data_table.ipynb>data table notebook</a>'\n",
              "          + ' to learn more about interactive tables.';\n",
              "        element.innerHTML = '';\n",
              "        dataTable['output_type'] = 'display_data';\n",
              "        await google.colab.output.renderOutput(dataTable, element);\n",
              "        const docLink = document.createElement('div');\n",
              "        docLink.innerHTML = docLinkHtml;\n",
              "        element.appendChild(docLink);\n",
              "      }\n",
              "    </script>\n",
              "  </div>\n",
              "\n",
              "\n",
              "<div id=\"df-ad0a0d84-5ea3-402d-9a1c-c8720456f414\">\n",
              "  <button class=\"colab-df-quickchart\" onclick=\"quickchart('df-ad0a0d84-5ea3-402d-9a1c-c8720456f414')\"\n",
              "            title=\"Suggest charts\"\n",
              "            style=\"display:none;\">\n",
              "\n",
              "<svg xmlns=\"http://www.w3.org/2000/svg\" height=\"24px\"viewBox=\"0 0 24 24\"\n",
              "     width=\"24px\">\n",
              "    <g>\n",
              "        <path d=\"M19 3H5c-1.1 0-2 .9-2 2v14c0 1.1.9 2 2 2h14c1.1 0 2-.9 2-2V5c0-1.1-.9-2-2-2zM9 17H7v-7h2v7zm4 0h-2V7h2v10zm4 0h-2v-4h2v4z\"/>\n",
              "    </g>\n",
              "</svg>\n",
              "  </button>\n",
              "\n",
              "<style>\n",
              "  .colab-df-quickchart {\n",
              "      --bg-color: #E8F0FE;\n",
              "      --fill-color: #1967D2;\n",
              "      --hover-bg-color: #E2EBFA;\n",
              "      --hover-fill-color: #174EA6;\n",
              "      --disabled-fill-color: #AAA;\n",
              "      --disabled-bg-color: #DDD;\n",
              "  }\n",
              "\n",
              "  [theme=dark] .colab-df-quickchart {\n",
              "      --bg-color: #3B4455;\n",
              "      --fill-color: #D2E3FC;\n",
              "      --hover-bg-color: #434B5C;\n",
              "      --hover-fill-color: #FFFFFF;\n",
              "      --disabled-bg-color: #3B4455;\n",
              "      --disabled-fill-color: #666;\n",
              "  }\n",
              "\n",
              "  .colab-df-quickchart {\n",
              "    background-color: var(--bg-color);\n",
              "    border: none;\n",
              "    border-radius: 50%;\n",
              "    cursor: pointer;\n",
              "    display: none;\n",
              "    fill: var(--fill-color);\n",
              "    height: 32px;\n",
              "    padding: 0;\n",
              "    width: 32px;\n",
              "  }\n",
              "\n",
              "  .colab-df-quickchart:hover {\n",
              "    background-color: var(--hover-bg-color);\n",
              "    box-shadow: 0 1px 2px rgba(60, 64, 67, 0.3), 0 1px 3px 1px rgba(60, 64, 67, 0.15);\n",
              "    fill: var(--button-hover-fill-color);\n",
              "  }\n",
              "\n",
              "  .colab-df-quickchart-complete:disabled,\n",
              "  .colab-df-quickchart-complete:disabled:hover {\n",
              "    background-color: var(--disabled-bg-color);\n",
              "    fill: var(--disabled-fill-color);\n",
              "    box-shadow: none;\n",
              "  }\n",
              "\n",
              "  .colab-df-spinner {\n",
              "    border: 2px solid var(--fill-color);\n",
              "    border-color: transparent;\n",
              "    border-bottom-color: var(--fill-color);\n",
              "    animation:\n",
              "      spin 1s steps(1) infinite;\n",
              "  }\n",
              "\n",
              "  @keyframes spin {\n",
              "    0% {\n",
              "      border-color: transparent;\n",
              "      border-bottom-color: var(--fill-color);\n",
              "      border-left-color: var(--fill-color);\n",
              "    }\n",
              "    20% {\n",
              "      border-color: transparent;\n",
              "      border-left-color: var(--fill-color);\n",
              "      border-top-color: var(--fill-color);\n",
              "    }\n",
              "    30% {\n",
              "      border-color: transparent;\n",
              "      border-left-color: var(--fill-color);\n",
              "      border-top-color: var(--fill-color);\n",
              "      border-right-color: var(--fill-color);\n",
              "    }\n",
              "    40% {\n",
              "      border-color: transparent;\n",
              "      border-right-color: var(--fill-color);\n",
              "      border-top-color: var(--fill-color);\n",
              "    }\n",
              "    60% {\n",
              "      border-color: transparent;\n",
              "      border-right-color: var(--fill-color);\n",
              "    }\n",
              "    80% {\n",
              "      border-color: transparent;\n",
              "      border-right-color: var(--fill-color);\n",
              "      border-bottom-color: var(--fill-color);\n",
              "    }\n",
              "    90% {\n",
              "      border-color: transparent;\n",
              "      border-bottom-color: var(--fill-color);\n",
              "    }\n",
              "  }\n",
              "</style>\n",
              "\n",
              "  <script>\n",
              "    async function quickchart(key) {\n",
              "      const quickchartButtonEl =\n",
              "        document.querySelector('#' + key + ' button');\n",
              "      quickchartButtonEl.disabled = true;  // To prevent multiple clicks.\n",
              "      quickchartButtonEl.classList.add('colab-df-spinner');\n",
              "      try {\n",
              "        const charts = await google.colab.kernel.invokeFunction(\n",
              "            'suggestCharts', [key], {});\n",
              "      } catch (error) {\n",
              "        console.error('Error during call to suggestCharts:', error);\n",
              "      }\n",
              "      quickchartButtonEl.classList.remove('colab-df-spinner');\n",
              "      quickchartButtonEl.classList.add('colab-df-quickchart-complete');\n",
              "    }\n",
              "    (() => {\n",
              "      let quickchartButtonEl =\n",
              "        document.querySelector('#df-ad0a0d84-5ea3-402d-9a1c-c8720456f414 button');\n",
              "      quickchartButtonEl.style.display =\n",
              "        google.colab.kernel.accessAllowed ? 'block' : 'none';\n",
              "    })();\n",
              "  </script>\n",
              "</div>\n",
              "\n",
              "  <div id=\"id_f655fc44-3fde-45a4-a84d-14c435853187\">\n",
              "    <style>\n",
              "      .colab-df-generate {\n",
              "        background-color: #E8F0FE;\n",
              "        border: none;\n",
              "        border-radius: 50%;\n",
              "        cursor: pointer;\n",
              "        display: none;\n",
              "        fill: #1967D2;\n",
              "        height: 32px;\n",
              "        padding: 0 0 0 0;\n",
              "        width: 32px;\n",
              "      }\n",
              "\n",
              "      .colab-df-generate:hover {\n",
              "        background-color: #E2EBFA;\n",
              "        box-shadow: 0px 1px 2px rgba(60, 64, 67, 0.3), 0px 1px 3px 1px rgba(60, 64, 67, 0.15);\n",
              "        fill: #174EA6;\n",
              "      }\n",
              "\n",
              "      [theme=dark] .colab-df-generate {\n",
              "        background-color: #3B4455;\n",
              "        fill: #D2E3FC;\n",
              "      }\n",
              "\n",
              "      [theme=dark] .colab-df-generate:hover {\n",
              "        background-color: #434B5C;\n",
              "        box-shadow: 0px 1px 3px 1px rgba(0, 0, 0, 0.15);\n",
              "        filter: drop-shadow(0px 1px 2px rgba(0, 0, 0, 0.3));\n",
              "        fill: #FFFFFF;\n",
              "      }\n",
              "    </style>\n",
              "    <button class=\"colab-df-generate\" onclick=\"generateWithVariable('data')\"\n",
              "            title=\"Generate code using this dataframe.\"\n",
              "            style=\"display:none;\">\n",
              "\n",
              "  <svg xmlns=\"http://www.w3.org/2000/svg\" height=\"24px\"viewBox=\"0 0 24 24\"\n",
              "       width=\"24px\">\n",
              "    <path d=\"M7,19H8.4L18.45,9,17,7.55,7,17.6ZM5,21V16.75L18.45,3.32a2,2,0,0,1,2.83,0l1.4,1.43a1.91,1.91,0,0,1,.58,1.4,1.91,1.91,0,0,1-.58,1.4L9.25,21ZM18.45,9,17,7.55Zm-12,3A5.31,5.31,0,0,0,4.9,8.1,5.31,5.31,0,0,0,1,6.5,5.31,5.31,0,0,0,4.9,4.9,5.31,5.31,0,0,0,6.5,1,5.31,5.31,0,0,0,8.1,4.9,5.31,5.31,0,0,0,12,6.5,5.46,5.46,0,0,0,6.5,12Z\"/>\n",
              "  </svg>\n",
              "    </button>\n",
              "    <script>\n",
              "      (() => {\n",
              "      const buttonEl =\n",
              "        document.querySelector('#id_f655fc44-3fde-45a4-a84d-14c435853187 button.colab-df-generate');\n",
              "      buttonEl.style.display =\n",
              "        google.colab.kernel.accessAllowed ? 'block' : 'none';\n",
              "\n",
              "      buttonEl.onclick = () => {\n",
              "        google.colab.notebook.generateWithVariable('data');\n",
              "      }\n",
              "      })();\n",
              "    </script>\n",
              "  </div>\n",
              "\n",
              "    </div>\n",
              "  </div>\n"
            ],
            "application/vnd.google.colaboratory.intrinsic+json": {
              "type": "dataframe",
              "variable_name": "data"
            }
          },
          "metadata": {},
          "execution_count": 12
        }
      ]
    },
    {
      "cell_type": "code",
      "source": [
        "data['Class'].value_counts()"
      ],
      "metadata": {
        "colab": {
          "base_uri": "https://localhost:8080/"
        },
        "id": "C4ksomOoQMdk",
        "outputId": "36cb7286-5148-49c6-c480-518741923dd2"
      },
      "execution_count": 13,
      "outputs": [
        {
          "output_type": "execute_result",
          "data": {
            "text/plain": [
              "Class\n",
              "1    492\n",
              "0    492\n",
              "Name: count, dtype: int64"
            ]
          },
          "metadata": {},
          "execution_count": 13
        }
      ]
    },
    {
      "cell_type": "code",
      "source": [
        "X = data.drop('Class', axis = 1)\n",
        "y = data['Class']"
      ],
      "metadata": {
        "id": "OEGURZm6QV0u"
      },
      "execution_count": 14,
      "outputs": []
    },
    {
      "cell_type": "code",
      "source": [
        "X_train, X_test, y_train, y_test = train_test_split(X, y, test_size = 0.2, random_state = 0, stratify = y)"
      ],
      "metadata": {
        "id": "KOLjaacZQZON"
      },
      "execution_count": 15,
      "outputs": []
    },
    {
      "cell_type": "code",
      "source": [
        "X_train.shape, X_test.shape\n"
      ],
      "metadata": {
        "colab": {
          "base_uri": "https://localhost:8080/"
        },
        "id": "R7PtutCwQcjU",
        "outputId": "9fec162c-3ef6-4a9e-8096-82107e49eb72"
      },
      "execution_count": 16,
      "outputs": [
        {
          "output_type": "execute_result",
          "data": {
            "text/plain": [
              "((787, 30), (197, 30))"
            ]
          },
          "metadata": {},
          "execution_count": 16
        }
      ]
    },
    {
      "cell_type": "code",
      "source": [
        "scaler = StandardScaler()\n",
        "X_train = scaler.fit_transform(X_train)\n",
        "X_test = scaler.transform(X_test)"
      ],
      "metadata": {
        "id": "bB3kM3qQQ2Mw"
      },
      "execution_count": 17,
      "outputs": []
    },
    {
      "cell_type": "code",
      "source": [
        "y_train = y_train.to_numpy()\n",
        "y_test = y_test.to_numpy()"
      ],
      "metadata": {
        "id": "5DYIM2S6Q5y1"
      },
      "execution_count": 18,
      "outputs": []
    },
    {
      "cell_type": "code",
      "source": [
        "X_train.shape\n"
      ],
      "metadata": {
        "colab": {
          "base_uri": "https://localhost:8080/"
        },
        "id": "rZPcyNmRQ8Fa",
        "outputId": "5a94ad9b-678c-4c87-9b55-aab1d621cc36"
      },
      "execution_count": 19,
      "outputs": [
        {
          "output_type": "execute_result",
          "data": {
            "text/plain": [
              "(787, 30)"
            ]
          },
          "metadata": {},
          "execution_count": 19
        }
      ]
    },
    {
      "cell_type": "code",
      "source": [
        "X_train = X_train.reshape(X_train.shape[0], X_train.shape[1], 1)\n",
        "X_test = X_test.reshape(X_test.shape[0], X_test.shape[1], 1)"
      ],
      "metadata": {
        "id": "Apz5Jq_3Q-SM"
      },
      "execution_count": 20,
      "outputs": []
    },
    {
      "cell_type": "code",
      "source": [
        "X_train.shape, X_test.shape"
      ],
      "metadata": {
        "colab": {
          "base_uri": "https://localhost:8080/"
        },
        "id": "GWwNC2g1RCQ1",
        "outputId": "c585061f-d6f6-4724-f99a-51ac7d2cd367"
      },
      "execution_count": 21,
      "outputs": [
        {
          "output_type": "execute_result",
          "data": {
            "text/plain": [
              "((787, 30, 1), (197, 30, 1))"
            ]
          },
          "metadata": {},
          "execution_count": 21
        }
      ]
    },
    {
      "cell_type": "markdown",
      "source": [
        "BUILD CNN"
      ],
      "metadata": {
        "id": "WZgrljQxRLXg"
      }
    },
    {
      "cell_type": "code",
      "source": [
        "epochs = 20\n",
        "model = Sequential()\n",
        "model.add(Conv1D(32, 2, activation='relu', input_shape = X_train[0].shape))\n",
        "model.add(BatchNormalization())\n",
        "model.add(Dropout(0.2))\n",
        "\n",
        "model.add(Conv1D(64, 2, activation='relu'))\n",
        "model.add(BatchNormalization())\n",
        "model.add(Dropout(0.5))\n",
        "\n",
        "model.add(Flatten())\n",
        "model.add(Dense(64, activation='relu'))\n",
        "model.add(Dropout(0.5))\n",
        "\n",
        "model.add(Dense(1, activation='sigmoid'))"
      ],
      "metadata": {
        "id": "hR16zg3VRH3F"
      },
      "execution_count": 22,
      "outputs": []
    },
    {
      "cell_type": "code",
      "source": [
        "model.summary()"
      ],
      "metadata": {
        "colab": {
          "base_uri": "https://localhost:8080/"
        },
        "id": "7Y6fShydRYoe",
        "outputId": "80eab077-26ca-4067-f6fd-81ad5e6251be"
      },
      "execution_count": 23,
      "outputs": [
        {
          "output_type": "stream",
          "name": "stdout",
          "text": [
            "Model: \"sequential\"\n",
            "_________________________________________________________________\n",
            " Layer (type)                Output Shape              Param #   \n",
            "=================================================================\n",
            " conv1d (Conv1D)             (None, 29, 32)            96        \n",
            "                                                                 \n",
            " batch_normalization (Batch  (None, 29, 32)            128       \n",
            " Normalization)                                                  \n",
            "                                                                 \n",
            " dropout (Dropout)           (None, 29, 32)            0         \n",
            "                                                                 \n",
            " conv1d_1 (Conv1D)           (None, 28, 64)            4160      \n",
            "                                                                 \n",
            " batch_normalization_1 (Bat  (None, 28, 64)            256       \n",
            " chNormalization)                                                \n",
            "                                                                 \n",
            " dropout_1 (Dropout)         (None, 28, 64)            0         \n",
            "                                                                 \n",
            " flatten (Flatten)           (None, 1792)              0         \n",
            "                                                                 \n",
            " dense (Dense)               (None, 64)                114752    \n",
            "                                                                 \n",
            " dropout_2 (Dropout)         (None, 64)                0         \n",
            "                                                                 \n",
            " dense_1 (Dense)             (None, 1)                 65        \n",
            "                                                                 \n",
            "=================================================================\n",
            "Total params: 119457 (466.63 KB)\n",
            "Trainable params: 119265 (465.88 KB)\n",
            "Non-trainable params: 192 (768.00 Byte)\n",
            "_________________________________________________________________\n"
          ]
        }
      ]
    },
    {
      "cell_type": "code",
      "source": [
        "model.compile(optimizer=Adam(lr=0.0001), loss = 'binary_crossentropy', metrics=['accuracy'])"
      ],
      "metadata": {
        "colab": {
          "base_uri": "https://localhost:8080/"
        },
        "id": "16vzkchZRa2t",
        "outputId": "6ebf7e97-a9e5-437e-d17a-8c7af86de41f"
      },
      "execution_count": 24,
      "outputs": [
        {
          "output_type": "stream",
          "name": "stderr",
          "text": [
            "WARNING:absl:`lr` is deprecated in Keras optimizer, please use `learning_rate` or use the legacy optimizer, e.g.,tf.keras.optimizers.legacy.Adam.\n"
          ]
        }
      ]
    },
    {
      "cell_type": "code",
      "source": [
        "history = model.fit(X_train, y_train, epochs=epochs, validation_data=(X_test, y_test), verbose=1)"
      ],
      "metadata": {
        "colab": {
          "base_uri": "https://localhost:8080/"
        },
        "id": "f_49q4btRgxS",
        "outputId": "fcb39be2-1587-4d93-e9ce-1cd54f8e04cb"
      },
      "execution_count": 25,
      "outputs": [
        {
          "output_type": "stream",
          "name": "stdout",
          "text": [
            "Epoch 1/20\n",
            "25/25 [==============================] - 3s 24ms/step - loss: 0.4504 - accuracy: 0.8653 - val_loss: 0.5517 - val_accuracy: 0.8071\n",
            "Epoch 2/20\n",
            "25/25 [==============================] - 0s 14ms/step - loss: 0.2533 - accuracy: 0.9199 - val_loss: 0.5295 - val_accuracy: 0.6853\n",
            "Epoch 3/20\n",
            "25/25 [==============================] - 0s 12ms/step - loss: 0.2213 - accuracy: 0.9314 - val_loss: 0.5383 - val_accuracy: 0.5431\n",
            "Epoch 4/20\n",
            "25/25 [==============================] - 0s 12ms/step - loss: 0.1907 - accuracy: 0.9403 - val_loss: 0.5303 - val_accuracy: 0.5533\n",
            "Epoch 5/20\n",
            "25/25 [==============================] - 0s 12ms/step - loss: 0.1619 - accuracy: 0.9454 - val_loss: 0.5100 - val_accuracy: 0.6294\n",
            "Epoch 6/20\n",
            "25/25 [==============================] - 0s 11ms/step - loss: 0.1869 - accuracy: 0.9377 - val_loss: 0.5174 - val_accuracy: 0.5787\n",
            "Epoch 7/20\n",
            "25/25 [==============================] - 0s 14ms/step - loss: 0.1604 - accuracy: 0.9454 - val_loss: 0.4254 - val_accuracy: 0.8122\n",
            "Epoch 8/20\n",
            "25/25 [==============================] - 0s 12ms/step - loss: 0.1857 - accuracy: 0.9403 - val_loss: 0.3724 - val_accuracy: 0.9137\n",
            "Epoch 9/20\n",
            "25/25 [==============================] - 0s 11ms/step - loss: 0.1393 - accuracy: 0.9492 - val_loss: 0.3337 - val_accuracy: 0.9086\n",
            "Epoch 10/20\n",
            "25/25 [==============================] - 0s 12ms/step - loss: 0.1489 - accuracy: 0.9441 - val_loss: 0.3115 - val_accuracy: 0.9137\n",
            "Epoch 11/20\n",
            "25/25 [==============================] - 0s 13ms/step - loss: 0.1303 - accuracy: 0.9543 - val_loss: 0.3019 - val_accuracy: 0.9086\n",
            "Epoch 12/20\n",
            "25/25 [==============================] - 0s 12ms/step - loss: 0.1483 - accuracy: 0.9492 - val_loss: 0.2932 - val_accuracy: 0.9086\n",
            "Epoch 13/20\n",
            "25/25 [==============================] - 0s 14ms/step - loss: 0.1463 - accuracy: 0.9466 - val_loss: 0.2379 - val_accuracy: 0.9137\n",
            "Epoch 14/20\n",
            "25/25 [==============================] - 0s 13ms/step - loss: 0.1272 - accuracy: 0.9555 - val_loss: 0.2292 - val_accuracy: 0.9137\n",
            "Epoch 15/20\n",
            "25/25 [==============================] - 0s 11ms/step - loss: 0.1391 - accuracy: 0.9543 - val_loss: 0.2223 - val_accuracy: 0.9188\n",
            "Epoch 16/20\n",
            "25/25 [==============================] - 0s 11ms/step - loss: 0.1247 - accuracy: 0.9568 - val_loss: 0.2232 - val_accuracy: 0.9086\n",
            "Epoch 17/20\n",
            "25/25 [==============================] - 0s 13ms/step - loss: 0.1167 - accuracy: 0.9619 - val_loss: 0.2281 - val_accuracy: 0.9188\n",
            "Epoch 18/20\n",
            "25/25 [==============================] - 0s 19ms/step - loss: 0.1260 - accuracy: 0.9593 - val_loss: 0.2244 - val_accuracy: 0.9086\n",
            "Epoch 19/20\n",
            "25/25 [==============================] - 0s 17ms/step - loss: 0.1356 - accuracy: 0.9543 - val_loss: 0.2360 - val_accuracy: 0.8985\n",
            "Epoch 20/20\n",
            "25/25 [==============================] - 0s 18ms/step - loss: 0.0991 - accuracy: 0.9644 - val_loss: 0.2413 - val_accuracy: 0.9137\n"
          ]
        }
      ]
    },
    {
      "cell_type": "code",
      "source": [
        "def plot_learningCurve(history, epoch):\n",
        "  # Plot training & validation accuracy values\n",
        "  epoch_range = range(1, epoch+1)\n",
        "  plt.plot(epoch_range, history.history['accuracy'])\n",
        "  plt.plot(epoch_range, history.history['val_accuracy'])\n",
        "  plt.title('Model accuracy')\n",
        "  plt.ylabel('Accuracy')\n",
        "  plt.xlabel('Epoch')\n",
        "  plt.legend(['Train', 'Val'], loc='upper left')\n",
        "  plt.show()\n",
        "\n",
        "  # Plot training & validation loss values\n",
        "  plt.plot(epoch_range, history.history['loss'])\n",
        "  plt.plot(epoch_range, history.history['val_loss'])\n",
        "  plt.title('Model loss')\n",
        "  plt.ylabel('Loss')\n",
        "  plt.xlabel('Epoch')\n",
        "  plt.legend(['Train', 'Val'], loc='upper left')\n",
        "  plt.show()"
      ],
      "metadata": {
        "id": "VGciuprZRkmo"
      },
      "execution_count": 26,
      "outputs": []
    },
    {
      "cell_type": "code",
      "source": [
        "plot_learningCurve(history, epochs)"
      ],
      "metadata": {
        "colab": {
          "base_uri": "https://localhost:8080/",
          "height": 927
        },
        "id": "_cV2WyX1Rswf",
        "outputId": "e379cd71-407d-4e57-a05d-a4e8fe8b6a57"
      },
      "execution_count": 27,
      "outputs": [
        {
          "output_type": "display_data",
          "data": {
            "text/plain": [
              "<Figure size 640x480 with 1 Axes>"
            ],
            "image/png": "[encoded data removed]"
          },
          "metadata": {}
        },
        {
          "output_type": "display_data",
          "data": {
            "text/plain": [
              "<Figure size 640x480 with 1 Axes>"
            ],
            "image/png": "[encoded data removed]"
          },
          "metadata": {}
        }
      ]
    },
    {
      "cell_type": "markdown",
      "source": [
        "Adding MaxPool"
      ],
      "metadata": {
        "id": "wjxOBhdeR0FF"
      }
    },
    {
      "cell_type": "code",
      "source": [
        "epochs = 50\n",
        "model = Sequential()\n",
        "model.add(Conv1D(32, 2, activation='relu', input_shape = X_train[0].shape))\n",
        "model.add(BatchNormalization())\n",
        "model.add(MaxPool1D(2))\n",
        "model.add(Dropout(0.2))\n",
        "\n",
        "model.add(Conv1D(64, 2, activation='relu'))\n",
        "model.add(BatchNormalization())\n",
        "model.add(MaxPool1D(2))\n",
        "model.add(Dropout(0.5))\n",
        "\n",
        "model.add(Flatten())\n",
        "model.add(Dense(64, activation='relu'))\n",
        "model.add(Dropout(0.5))\n",
        "\n",
        "model.add(Dense(1, activation='sigmoid'))\n",
        "\n",
        "model.compile(optimizer=Adam(lr=0.0001), loss = 'binary_crossentropy', metrics=['accuracy'])\n",
        "history = model.fit(X_train, y_train, epochs=epochs, validation_data=(X_test, y_test), verbose=1)\n",
        "plot_learningCurve(history, epochs)"
      ],
      "metadata": {
        "colab": {
          "base_uri": "https://localhost:8080/",
          "height": 1000
        },
        "id": "IRDv8jZlRv87",
        "outputId": "b3274e61-1866-4fe4-b866-7ec5349bee75"
      },
      "execution_count": 28,
      "outputs": [
        {
          "output_type": "stream",
          "name": "stderr",
          "text": [
            "WARNING:absl:`lr` is deprecated in Keras optimizer, please use `learning_rate` or use the legacy optimizer, e.g.,tf.keras.optimizers.legacy.Adam.\n"
          ]
        },
        {
          "output_type": "stream",
          "name": "stdout",
          "text": [
            "Epoch 1/50\n",
            "25/25 [==============================] - 2s 17ms/step - loss: 0.6542 - accuracy: 0.7255 - val_loss: 0.5409 - val_accuracy: 0.8376\n",
            "Epoch 2/50\n",
            "25/25 [==============================] - 0s 8ms/step - loss: 0.3233 - accuracy: 0.8666 - val_loss: 0.4964 - val_accuracy: 0.8426\n",
            "Epoch 3/50\n",
            "25/25 [==============================] - 0s 9ms/step - loss: 0.2586 - accuracy: 0.9111 - val_loss: 0.4571 - val_accuracy: 0.8629\n",
            "Epoch 4/50\n",
            "25/25 [==============================] - 0s 8ms/step - loss: 0.2696 - accuracy: 0.9034 - val_loss: 0.4027 - val_accuracy: 0.8629\n",
            "Epoch 5/50\n",
            "25/25 [==============================] - 0s 8ms/step - loss: 0.2348 - accuracy: 0.9199 - val_loss: 0.3678 - val_accuracy: 0.8731\n",
            "Epoch 6/50\n",
            "25/25 [==============================] - 0s 8ms/step - loss: 0.2503 - accuracy: 0.9174 - val_loss: 0.3313 - val_accuracy: 0.8832\n",
            "Epoch 7/50\n",
            "25/25 [==============================] - 0s 9ms/step - loss: 0.2342 - accuracy: 0.9339 - val_loss: 0.3084 - val_accuracy: 0.8985\n",
            "Epoch 8/50\n",
            "25/25 [==============================] - 0s 9ms/step - loss: 0.2357 - accuracy: 0.9263 - val_loss: 0.2877 - val_accuracy: 0.8883\n",
            "Epoch 9/50\n",
            "25/25 [==============================] - 0s 8ms/step - loss: 0.2077 - accuracy: 0.9238 - val_loss: 0.2774 - val_accuracy: 0.8985\n",
            "Epoch 10/50\n",
            "25/25 [==============================] - 0s 8ms/step - loss: 0.2146 - accuracy: 0.9225 - val_loss: 0.2605 - val_accuracy: 0.9036\n",
            "Epoch 11/50\n",
            "25/25 [==============================] - 0s 12ms/step - loss: 0.1964 - accuracy: 0.9314 - val_loss: 0.2496 - val_accuracy: 0.9086\n",
            "Epoch 12/50\n",
            "25/25 [==============================] - 0s 13ms/step - loss: 0.2065 - accuracy: 0.9339 - val_loss: 0.2456 - val_accuracy: 0.9086\n",
            "Epoch 13/50\n",
            "25/25 [==============================] - 0s 13ms/step - loss: 0.1904 - accuracy: 0.9377 - val_loss: 0.2507 - val_accuracy: 0.9086\n",
            "Epoch 14/50\n",
            "25/25 [==============================] - 0s 13ms/step - loss: 0.1921 - accuracy: 0.9352 - val_loss: 0.2573 - val_accuracy: 0.9086\n",
            "Epoch 15/50\n",
            "25/25 [==============================] - 0s 13ms/step - loss: 0.1857 - accuracy: 0.9403 - val_loss: 0.2495 - val_accuracy: 0.9086\n",
            "Epoch 16/50\n",
            "25/25 [==============================] - 0s 11ms/step - loss: 0.1823 - accuracy: 0.9314 - val_loss: 0.2482 - val_accuracy: 0.9086\n",
            "Epoch 17/50\n",
            "25/25 [==============================] - 0s 13ms/step - loss: 0.1607 - accuracy: 0.9479 - val_loss: 0.2410 - val_accuracy: 0.9086\n",
            "Epoch 18/50\n",
            "25/25 [==============================] - 0s 11ms/step - loss: 0.1774 - accuracy: 0.9365 - val_loss: 0.2461 - val_accuracy: 0.9086\n",
            "Epoch 19/50\n",
            "25/25 [==============================] - 0s 13ms/step - loss: 0.1989 - accuracy: 0.9492 - val_loss: 0.2597 - val_accuracy: 0.9086\n",
            "Epoch 20/50\n",
            "25/25 [==============================] - 0s 12ms/step - loss: 0.1738 - accuracy: 0.9377 - val_loss: 0.2441 - val_accuracy: 0.9036\n",
            "Epoch 21/50\n",
            "25/25 [==============================] - 0s 14ms/step - loss: 0.1576 - accuracy: 0.9530 - val_loss: 0.2474 - val_accuracy: 0.9036\n",
            "Epoch 22/50\n",
            "25/25 [==============================] - 0s 14ms/step - loss: 0.1998 - accuracy: 0.9250 - val_loss: 0.2463 - val_accuracy: 0.9086\n",
            "Epoch 23/50\n",
            "25/25 [==============================] - 0s 13ms/step - loss: 0.1634 - accuracy: 0.9441 - val_loss: 0.2375 - val_accuracy: 0.8985\n",
            "Epoch 24/50\n",
            "25/25 [==============================] - 0s 11ms/step - loss: 0.1567 - accuracy: 0.9454 - val_loss: 0.2485 - val_accuracy: 0.9086\n",
            "Epoch 25/50\n",
            "25/25 [==============================] - 0s 13ms/step - loss: 0.1517 - accuracy: 0.9530 - val_loss: 0.2472 - val_accuracy: 0.9036\n",
            "Epoch 26/50\n",
            "25/25 [==============================] - 0s 11ms/step - loss: 0.1557 - accuracy: 0.9390 - val_loss: 0.2523 - val_accuracy: 0.9086\n",
            "Epoch 27/50\n",
            "25/25 [==============================] - 0s 8ms/step - loss: 0.1596 - accuracy: 0.9390 - val_loss: 0.2564 - val_accuracy: 0.9086\n",
            "Epoch 28/50\n",
            "25/25 [==============================] - 0s 8ms/step - loss: 0.1679 - accuracy: 0.9377 - val_loss: 0.2534 - val_accuracy: 0.9086\n",
            "Epoch 29/50\n",
            "25/25 [==============================] - 0s 8ms/step - loss: 0.1573 - accuracy: 0.9403 - val_loss: 0.2472 - val_accuracy: 0.9086\n",
            "Epoch 30/50\n",
            "25/25 [==============================] - 0s 9ms/step - loss: 0.1487 - accuracy: 0.9479 - val_loss: 0.2438 - val_accuracy: 0.9036\n",
            "Epoch 31/50\n",
            "25/25 [==============================] - 0s 8ms/step - loss: 0.1590 - accuracy: 0.9416 - val_loss: 0.2539 - val_accuracy: 0.9086\n",
            "Epoch 32/50\n",
            "25/25 [==============================] - 0s 8ms/step - loss: 0.1469 - accuracy: 0.9479 - val_loss: 0.2723 - val_accuracy: 0.9086\n",
            "Epoch 33/50\n",
            "25/25 [==============================] - 0s 8ms/step - loss: 0.1717 - accuracy: 0.9428 - val_loss: 0.2752 - val_accuracy: 0.9137\n",
            "Epoch 34/50\n",
            "25/25 [==============================] - 0s 8ms/step - loss: 0.1367 - accuracy: 0.9492 - val_loss: 0.2664 - val_accuracy: 0.9086\n",
            "Epoch 35/50\n",
            "25/25 [==============================] - 0s 9ms/step - loss: 0.1404 - accuracy: 0.9581 - val_loss: 0.2800 - val_accuracy: 0.9086\n",
            "Epoch 36/50\n",
            "25/25 [==============================] - 0s 8ms/step - loss: 0.1392 - accuracy: 0.9504 - val_loss: 0.2892 - val_accuracy: 0.9086\n",
            "Epoch 37/50\n",
            "25/25 [==============================] - 0s 8ms/step - loss: 0.1438 - accuracy: 0.9568 - val_loss: 0.2634 - val_accuracy: 0.9086\n",
            "Epoch 38/50\n",
            "25/25 [==============================] - 0s 8ms/step - loss: 0.1400 - accuracy: 0.9504 - val_loss: 0.2619 - val_accuracy: 0.9086\n",
            "Epoch 39/50\n",
            "25/25 [==============================] - 0s 7ms/step - loss: 0.1515 - accuracy: 0.9543 - val_loss: 0.2613 - val_accuracy: 0.9036\n",
            "Epoch 40/50\n",
            "25/25 [==============================] - 0s 8ms/step - loss: 0.1317 - accuracy: 0.9466 - val_loss: 0.2642 - val_accuracy: 0.9086\n",
            "Epoch 41/50\n",
            "25/25 [==============================] - 0s 8ms/step - loss: 0.1409 - accuracy: 0.9504 - val_loss: 0.2813 - val_accuracy: 0.9086\n",
            "Epoch 42/50\n",
            "25/25 [==============================] - 0s 8ms/step - loss: 0.1682 - accuracy: 0.9454 - val_loss: 0.2793 - val_accuracy: 0.9086\n",
            "Epoch 43/50\n",
            "25/25 [==============================] - 0s 8ms/step - loss: 0.1514 - accuracy: 0.9454 - val_loss: 0.2779 - val_accuracy: 0.9086\n",
            "Epoch 44/50\n",
            "25/25 [==============================] - 0s 8ms/step - loss: 0.1381 - accuracy: 0.9479 - val_loss: 0.2879 - val_accuracy: 0.9086\n",
            "Epoch 45/50\n",
            "25/25 [==============================] - 0s 8ms/step - loss: 0.1343 - accuracy: 0.9530 - val_loss: 0.2756 - val_accuracy: 0.9036\n",
            "Epoch 46/50\n",
            "25/25 [==============================] - 0s 8ms/step - loss: 0.1308 - accuracy: 0.9581 - val_loss: 0.2875 - val_accuracy: 0.9086\n",
            "Epoch 47/50\n",
            "25/25 [==============================] - 0s 8ms/step - loss: 0.1171 - accuracy: 0.9593 - val_loss: 0.2845 - val_accuracy: 0.9036\n",
            "Epoch 48/50\n",
            "25/25 [==============================] - 0s 8ms/step - loss: 0.1194 - accuracy: 0.9555 - val_loss: 0.2920 - val_accuracy: 0.9086\n",
            "Epoch 49/50\n",
            "25/25 [==============================] - 0s 8ms/step - loss: 0.1325 - accuracy: 0.9581 - val_loss: 0.3025 - val_accuracy: 0.9086\n",
            "Epoch 50/50\n",
            "25/25 [==============================] - 0s 9ms/step - loss: 0.1187 - accuracy: 0.9530 - val_loss: 0.2944 - val_accuracy: 0.9036\n"
          ]
        },
        {
          "output_type": "display_data",
          "data": {
            "text/plain": [
              "<Figure size 640x480 with 1 Axes>"
            ],
            "image/png": "[encoded data removed]"
          },
          "metadata": {}
        },
        {
          "output_type": "display_data",
          "data": {
            "text/plain": [
              "<Figure size 640x480 with 1 Axes>"
            ],
            "image/png": "[encoded data removed]"
          },
          "metadata": {}
        }
      ]
    },
    {
      "cell_type": "code",
      "source": [
        "model.save('model.h5')"
      ],
      "metadata": {
        "id": "SK2DQZ-uR-fc",
        "colab": {
          "base_uri": "https://localhost:8080/"
        },
        "outputId": "299a0f77-10c8-48d4-aa70-20b7ee362cba"
      },
      "execution_count": 29,
      "outputs": [
        {
          "output_type": "stream",
          "name": "stderr",
          "text": [
            "/usr/local/lib/python3.10/dist-packages/keras/src/engine/training.py:3103: UserWarning: You are saving your model as an HDF5 file via `model.save()`. This file format is considered legacy. We recommend using instead the native Keras format, e.g. `model.save('my_model.keras')`.\n",
            "  saving_api.save_model(\n"
          ]
        }
      ]
    }
  ]
}